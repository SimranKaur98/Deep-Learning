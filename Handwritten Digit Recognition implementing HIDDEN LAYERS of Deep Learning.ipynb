{
 "cells": [
  {
   "cell_type": "code",
   "execution_count": 1,
   "metadata": {},
   "outputs": [
    {
     "name": "stderr",
     "output_type": "stream",
     "text": [
      "c:\\users\\hp\\appdata\\local\\programs\\python\\python36\\lib\\site-packages\\tensorflow\\python\\framework\\dtypes.py:523: FutureWarning: Passing (type, 1) or '1type' as a synonym of type is deprecated; in a future version of numpy, it will be understood as (type, (1,)) / '(1,)type'.\n",
      "  _np_qint8 = np.dtype([(\"qint8\", np.int8, 1)])\n",
      "c:\\users\\hp\\appdata\\local\\programs\\python\\python36\\lib\\site-packages\\tensorflow\\python\\framework\\dtypes.py:524: FutureWarning: Passing (type, 1) or '1type' as a synonym of type is deprecated; in a future version of numpy, it will be understood as (type, (1,)) / '(1,)type'.\n",
      "  _np_quint8 = np.dtype([(\"quint8\", np.uint8, 1)])\n",
      "c:\\users\\hp\\appdata\\local\\programs\\python\\python36\\lib\\site-packages\\tensorflow\\python\\framework\\dtypes.py:525: FutureWarning: Passing (type, 1) or '1type' as a synonym of type is deprecated; in a future version of numpy, it will be understood as (type, (1,)) / '(1,)type'.\n",
      "  _np_qint16 = np.dtype([(\"qint16\", np.int16, 1)])\n",
      "c:\\users\\hp\\appdata\\local\\programs\\python\\python36\\lib\\site-packages\\tensorflow\\python\\framework\\dtypes.py:526: FutureWarning: Passing (type, 1) or '1type' as a synonym of type is deprecated; in a future version of numpy, it will be understood as (type, (1,)) / '(1,)type'.\n",
      "  _np_quint16 = np.dtype([(\"quint16\", np.uint16, 1)])\n",
      "c:\\users\\hp\\appdata\\local\\programs\\python\\python36\\lib\\site-packages\\tensorflow\\python\\framework\\dtypes.py:527: FutureWarning: Passing (type, 1) or '1type' as a synonym of type is deprecated; in a future version of numpy, it will be understood as (type, (1,)) / '(1,)type'.\n",
      "  _np_qint32 = np.dtype([(\"qint32\", np.int32, 1)])\n",
      "c:\\users\\hp\\appdata\\local\\programs\\python\\python36\\lib\\site-packages\\tensorflow\\python\\framework\\dtypes.py:532: FutureWarning: Passing (type, 1) or '1type' as a synonym of type is deprecated; in a future version of numpy, it will be understood as (type, (1,)) / '(1,)type'.\n",
      "  np_resource = np.dtype([(\"resource\", np.ubyte, 1)])\n"
     ]
    }
   ],
   "source": [
    "#Load tensorflow\n",
    "import tensorflow as tf\n",
    "tf.set_random_seed(42)"
   ]
  },
  {
   "cell_type": "code",
   "execution_count": 2,
   "metadata": {},
   "outputs": [],
   "source": [
    "#Collect Data\n",
    "(trainX, trainY),(testX, testY) = tf.keras.datasets.mnist.load_data()"
   ]
  },
  {
   "cell_type": "code",
   "execution_count": 3,
   "metadata": {},
   "outputs": [],
   "source": [
    "#Convert Output label to multiple values\n",
    "trainY = tf.keras.utils.to_categorical(trainY, num_classes=10)\n",
    "testY = tf.keras.utils.to_categorical(testY, num_classes=10)"
   ]
  },
  {
   "cell_type": "code",
   "execution_count": 4,
   "metadata": {},
   "outputs": [],
   "source": [
    "#Build the Graph\n",
    "\n",
    "#Initialize Sequential model\n",
    "model = tf.keras.models.Sequential()\n",
    "\n",
    "#Reshape data from 2D to 1D -> 28x28 to 784\n",
    "model.add(tf.keras.layers.Reshape((784,),input_shape=(28,28,)))\n",
    "\n",
    "#Normalize the data\n",
    "model.add(tf.keras.layers.BatchNormalization())"
   ]
  },
  {
   "cell_type": "code",
   "execution_count": 5,
   "metadata": {},
   "outputs": [],
   "source": [
    "#Add 1st hidden layer\n",
    "model.add(tf.keras.layers.Dense(200, activation='sigmoid'))\n",
    "#Add 2nd hidden layer\n",
    "model.add(tf.keras.layers.Dense(100, activation='sigmoid'))\n",
    "#Add 3rd hidden layer\n",
    "model.add(tf.keras.layers.Dense(60, activation='sigmoid'))\n",
    "#Add 4th hidden layer\n",
    "model.add(tf.keras.layers.Dense(30, activation='sigmoid'))"
   ]
  },
  {
   "cell_type": "code",
   "execution_count": 6,
   "metadata": {},
   "outputs": [],
   "source": [
    "#Add OUTPUT layer\n",
    "model.add(tf.keras.layers.Dense(10, activation='softmax'))"
   ]
  },
  {
   "cell_type": "code",
   "execution_count": 7,
   "metadata": {},
   "outputs": [],
   "source": [
    "#Create optimizer with non-default learning rate\n",
    "sgd_optimizer = tf.keras.optimizers.SGD(lr=0.03)\n",
    "\n",
    "#Compile the model\n",
    "model.compile(optimizer=sgd_optimizer, loss='categorical_crossentropy', metrics=['accuracy'])"
   ]
  },
  {
   "cell_type": "code",
   "execution_count": 8,
   "metadata": {},
   "outputs": [
    {
     "name": "stdout",
     "output_type": "stream",
     "text": [
      "_________________________________________________________________\n",
      "Layer (type)                 Output Shape              Param #   \n",
      "=================================================================\n",
      "reshape (Reshape)            (None, 784)               0         \n",
      "_________________________________________________________________\n",
      "batch_normalization (BatchNo (None, 784)               3136      \n",
      "_________________________________________________________________\n",
      "dense (Dense)                (None, 200)               157000    \n",
      "_________________________________________________________________\n",
      "dense_1 (Dense)              (None, 100)               20100     \n",
      "_________________________________________________________________\n",
      "dense_2 (Dense)              (None, 60)                6060      \n",
      "_________________________________________________________________\n",
      "dense_3 (Dense)              (None, 30)                1830      \n",
      "_________________________________________________________________\n",
      "dense_4 (Dense)              (None, 10)                310       \n",
      "=================================================================\n",
      "Total params: 188,436\n",
      "Trainable params: 186,868\n",
      "Non-trainable params: 1,568\n",
      "_________________________________________________________________\n"
     ]
    }
   ],
   "source": [
    "#Review model\n",
    "model.summary()"
   ]
  },
  {
   "cell_type": "code",
   "execution_count": 9,
   "metadata": {},
   "outputs": [
    {
     "name": "stdout",
     "output_type": "stream",
     "text": [
      "Train on 60000 samples, validate on 10000 samples\n",
      "Epoch 1/30\n",
      "60000/60000 [==============================] - 11s 189us/step - loss: 2.2955 - acc: 0.1376 - val_loss: 2.2728 - val_acc: 0.1899\n",
      "Epoch 2/30\n",
      "60000/60000 [==============================] - 10s 174us/step - loss: 2.0959 - acc: 0.2606 - val_loss: 1.7877 - val_acc: 0.3095\n",
      "Epoch 3/30\n",
      "60000/60000 [==============================] - 12s 199us/step - loss: 1.5185 - acc: 0.4861 - val_loss: 1.1749 - val_acc: 0.6625\n",
      "Epoch 4/30\n",
      "60000/60000 [==============================] - 13s 209us/step - loss: 0.9814 - acc: 0.7175 - val_loss: 0.7475 - val_acc: 0.8060\n",
      "Epoch 5/30\n",
      "60000/60000 [==============================] - 10s 166us/step - loss: 0.7029 - acc: 0.8045 - val_loss: 0.5700 - val_acc: 0.8548\n",
      "Epoch 6/30\n",
      "60000/60000 [==============================] - 10s 174us/step - loss: 0.5496 - acc: 0.8512 - val_loss: 0.4398 - val_acc: 0.8870\n",
      "Epoch 7/30\n",
      "60000/60000 [==============================] - 10s 174us/step - loss: 0.4378 - acc: 0.8823 - val_loss: 0.3691 - val_acc: 0.9046\n",
      "Epoch 8/30\n",
      "60000/60000 [==============================] - 10s 174us/step - loss: 0.3683 - acc: 0.8990 - val_loss: 0.3169 - val_acc: 0.9163\n",
      "Epoch 9/30\n",
      "60000/60000 [==============================] - 10s 167us/step - loss: 0.3209 - acc: 0.9124 - val_loss: 0.2855 - val_acc: 0.9267\n",
      "Epoch 10/30\n",
      "60000/60000 [==============================] - 9s 154us/step - loss: 0.2826 - acc: 0.9215 - val_loss: 0.2556 - val_acc: 0.9341\n",
      "Epoch 11/30\n",
      "60000/60000 [==============================] - 10s 160us/step - loss: 0.2542 - acc: 0.9301 - val_loss: 0.2449 - val_acc: 0.9377\n",
      "Epoch 12/30\n",
      "60000/60000 [==============================] - 11s 175us/step - loss: 0.2291 - acc: 0.9367 - val_loss: 0.2230 - val_acc: 0.9426\n",
      "Epoch 13/30\n",
      "60000/60000 [==============================] - 10s 164us/step - loss: 0.2053 - acc: 0.9433 - val_loss: 0.2053 - val_acc: 0.9485\n",
      "Epoch 14/30\n",
      "60000/60000 [==============================] - 9s 154us/step - loss: 0.1859 - acc: 0.9476 - val_loss: 0.1978 - val_acc: 0.9495\n",
      "Epoch 15/30\n",
      "60000/60000 [==============================] - 9s 157us/step - loss: 0.1716 - acc: 0.9527 - val_loss: 0.1926 - val_acc: 0.9498\n",
      "Epoch 16/30\n",
      "60000/60000 [==============================] - 9s 157us/step - loss: 0.1538 - acc: 0.9575 - val_loss: 0.1853 - val_acc: 0.9525\n",
      "Epoch 17/30\n",
      "60000/60000 [==============================] - 9s 157us/step - loss: 0.1424 - acc: 0.9601 - val_loss: 0.1795 - val_acc: 0.9542\n",
      "Epoch 18/30\n",
      "60000/60000 [==============================] - 9s 157us/step - loss: 0.1316 - acc: 0.9632 - val_loss: 0.1684 - val_acc: 0.9574\n",
      "Epoch 19/30\n",
      "60000/60000 [==============================] - 10s 164us/step - loss: 0.1186 - acc: 0.9673 - val_loss: 0.1769 - val_acc: 0.9555\n",
      "Epoch 20/30\n",
      "60000/60000 [==============================] - 9s 158us/step - loss: 0.1111 - acc: 0.9694 - val_loss: 0.1649 - val_acc: 0.9592\n",
      "Epoch 21/30\n",
      "60000/60000 [==============================] - 9s 155us/step - loss: 0.1016 - acc: 0.9720 - val_loss: 0.1593 - val_acc: 0.9574\n",
      "Epoch 22/30\n",
      "60000/60000 [==============================] - 9s 155us/step - loss: 0.0964 - acc: 0.9721 - val_loss: 0.1571 - val_acc: 0.9610\n",
      "Epoch 23/30\n",
      "60000/60000 [==============================] - 9s 158us/step - loss: 0.0885 - acc: 0.9747 - val_loss: 0.1527 - val_acc: 0.9610\n",
      "Epoch 24/30\n",
      "60000/60000 [==============================] - 9s 156us/step - loss: 0.0832 - acc: 0.9766 - val_loss: 0.1545 - val_acc: 0.9614\n",
      "Epoch 25/30\n",
      "60000/60000 [==============================] - 10s 163us/step - loss: 0.0759 - acc: 0.9780 - val_loss: 0.1521 - val_acc: 0.9632\n",
      "Epoch 26/30\n",
      "60000/60000 [==============================] - 11s 181us/step - loss: 0.0734 - acc: 0.9790 - val_loss: 0.1470 - val_acc: 0.9639\n",
      "Epoch 27/30\n",
      "60000/60000 [==============================] - 11s 180us/step - loss: 0.0688 - acc: 0.9807 - val_loss: 0.1439 - val_acc: 0.9648\n",
      "Epoch 28/30\n",
      "60000/60000 [==============================] - 11s 177us/step - loss: 0.0641 - acc: 0.9822 - val_loss: 0.1519 - val_acc: 0.9632\n",
      "Epoch 29/30\n",
      "60000/60000 [==============================] - 10s 174us/step - loss: 0.0601 - acc: 0.9833 - val_loss: 0.1453 - val_acc: 0.9655\n",
      "Epoch 30/30\n",
      "60000/60000 [==============================] - 10s 171us/step - loss: 0.0576 - acc: 0.9833 - val_loss: 0.1505 - val_acc: 0.9625\n"
     ]
    },
    {
     "data": {
      "text/plain": [
       "<tensorflow.python.keras.callbacks.History at 0x25518e50240>"
      ]
     },
     "execution_count": 9,
     "metadata": {},
     "output_type": "execute_result"
    }
   ],
   "source": [
    "#Train the model\n",
    "model.fit(trainX,trainY,          \n",
    "          validation_data=(testX,testY),\n",
    "          epochs=30,\n",
    "          batch_size=32)"
   ]
  },
  {
   "cell_type": "code",
   "execution_count": null,
   "metadata": {},
   "outputs": [],
   "source": []
  }
 ],
 "metadata": {
  "kernelspec": {
   "display_name": "Python 3",
   "language": "python",
   "name": "python3"
  },
  "language_info": {
   "codemirror_mode": {
    "name": "ipython",
    "version": 3
   },
   "file_extension": ".py",
   "mimetype": "text/x-python",
   "name": "python",
   "nbconvert_exporter": "python",
   "pygments_lexer": "ipython3",
   "version": "3.6.8"
  }
 },
 "nbformat": 4,
 "nbformat_minor": 2
}
