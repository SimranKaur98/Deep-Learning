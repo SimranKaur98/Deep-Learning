{
 "cells": [
  {
   "cell_type": "code",
   "execution_count": 1,
   "metadata": {},
   "outputs": [
    {
     "name": "stderr",
     "output_type": "stream",
     "text": [
      "c:\\users\\hp\\appdata\\local\\programs\\python\\python36\\lib\\site-packages\\tensorflow\\python\\framework\\dtypes.py:523: FutureWarning: Passing (type, 1) or '1type' as a synonym of type is deprecated; in a future version of numpy, it will be understood as (type, (1,)) / '(1,)type'.\n",
      "  _np_qint8 = np.dtype([(\"qint8\", np.int8, 1)])\n",
      "c:\\users\\hp\\appdata\\local\\programs\\python\\python36\\lib\\site-packages\\tensorflow\\python\\framework\\dtypes.py:524: FutureWarning: Passing (type, 1) or '1type' as a synonym of type is deprecated; in a future version of numpy, it will be understood as (type, (1,)) / '(1,)type'.\n",
      "  _np_quint8 = np.dtype([(\"quint8\", np.uint8, 1)])\n",
      "c:\\users\\hp\\appdata\\local\\programs\\python\\python36\\lib\\site-packages\\tensorflow\\python\\framework\\dtypes.py:525: FutureWarning: Passing (type, 1) or '1type' as a synonym of type is deprecated; in a future version of numpy, it will be understood as (type, (1,)) / '(1,)type'.\n",
      "  _np_qint16 = np.dtype([(\"qint16\", np.int16, 1)])\n",
      "c:\\users\\hp\\appdata\\local\\programs\\python\\python36\\lib\\site-packages\\tensorflow\\python\\framework\\dtypes.py:526: FutureWarning: Passing (type, 1) or '1type' as a synonym of type is deprecated; in a future version of numpy, it will be understood as (type, (1,)) / '(1,)type'.\n",
      "  _np_quint16 = np.dtype([(\"quint16\", np.uint16, 1)])\n",
      "c:\\users\\hp\\appdata\\local\\programs\\python\\python36\\lib\\site-packages\\tensorflow\\python\\framework\\dtypes.py:527: FutureWarning: Passing (type, 1) or '1type' as a synonym of type is deprecated; in a future version of numpy, it will be understood as (type, (1,)) / '(1,)type'.\n",
      "  _np_qint32 = np.dtype([(\"qint32\", np.int32, 1)])\n",
      "c:\\users\\hp\\appdata\\local\\programs\\python\\python36\\lib\\site-packages\\tensorflow\\python\\framework\\dtypes.py:532: FutureWarning: Passing (type, 1) or '1type' as a synonym of type is deprecated; in a future version of numpy, it will be understood as (type, (1,)) / '(1,)type'.\n",
      "  np_resource = np.dtype([(\"resource\", np.ubyte, 1)])\n"
     ]
    }
   ],
   "source": [
    "import tensorflow as tf\n",
    "tf.set_random_seed(42)"
   ]
  },
  {
   "cell_type": "code",
   "execution_count": 2,
   "metadata": {},
   "outputs": [
    {
     "name": "stdout",
     "output_type": "stream",
     "text": [
      "Downloading data from https://s3.amazonaws.com/img-datasets/mnist.npz\n",
      "11493376/11490434 [==============================] - 91s 8us/step\n"
     ]
    }
   ],
   "source": [
    "(trainX, trainY), (testX, testY) = tf.keras.datasets.mnist.load_data()"
   ]
  },
  {
   "cell_type": "code",
   "execution_count": 3,
   "metadata": {},
   "outputs": [
    {
     "name": "stdout",
     "output_type": "stream",
     "text": [
      "[7 2 1 0 4]\n"
     ]
    }
   ],
   "source": [
    "print(testY[0:5])\n"
   ]
  },
  {
   "cell_type": "code",
   "execution_count": 4,
   "metadata": {},
   "outputs": [
    {
     "name": "stdout",
     "output_type": "stream",
     "text": [
      "(60000,)\n",
      "First 2 examples are:  [5 0]\n",
      "(60000, 10)\n",
      "First 2 examples now are:  [[0. 0. 0. 0. 0. 1. 0. 0. 0. 0.]\n",
      " [1. 0. 0. 0. 0. 0. 0. 0. 0. 0.]]\n"
     ]
    }
   ],
   "source": [
    "#Convert Output label to multiple values\n",
    "\n",
    "print(trainY.shape)\n",
    "print('First 2 examples are: ', trainY[0:2])\n",
    "\n",
    "trainY = tf.keras.utils.to_categorical(trainY, num_classes=10)\n",
    "testY = tf.keras.utils.to_categorical(testY, num_classes=10)\n",
    "print(trainY.shape)\n",
    "print('First 2 examples now are: ', trainY[0:2])"
   ]
  },
  {
   "cell_type": "code",
   "execution_count": 5,
   "metadata": {},
   "outputs": [],
   "source": [
    "#Build the Graph\n",
    "\n",
    "#Initialize Sequential model\n",
    "model = tf.keras.models.Sequential()\n",
    "\n",
    "#Reshape data from 2D to 1D -> 28x28 to 784\n",
    "model.add(tf.keras.layers.Reshape((784,),input_shape=(28,28,)))\n",
    "\n",
    "#Normalize the data\n",
    "model.add(tf.keras.layers.BatchNormalization())\n",
    "\n",
    "#Add Dense Layer which provides 10 Outputs after applying softmax\n",
    "model.add(tf.keras.layers.Dense(10, activation='softmax'))\n",
    "\n",
    "#Comile the model\n",
    "model.compile(optimizer='sgd', loss='categorical_crossentropy', metrics=['accuracy'])"
   ]
  },
  {
   "cell_type": "code",
   "execution_count": 7,
   "metadata": {},
   "outputs": [
    {
     "name": "stdout",
     "output_type": "stream",
     "text": [
      "Train on 60000 samples, validate on 10000 samples\n",
      "Epoch 1/100\n",
      "60000/60000 [==============================] - 3s 46us/step - loss: 1.0606 - acc: 0.6947 - val_loss: 1.1133 - val_acc: 0.6726\n",
      "Epoch 2/100\n",
      "60000/60000 [==============================] - 3s 46us/step - loss: 1.0509 - acc: 0.6979 - val_loss: 1.0986 - val_acc: 0.6762\n",
      "Epoch 3/100\n",
      "60000/60000 [==============================] - 3s 48us/step - loss: 1.0415 - acc: 0.7012 - val_loss: 1.0845 - val_acc: 0.6803\n",
      "Epoch 4/100\n",
      "60000/60000 [==============================] - 3s 47us/step - loss: 1.0323 - acc: 0.7046 - val_loss: 1.0708 - val_acc: 0.6841\n",
      "Epoch 5/100\n",
      "60000/60000 [==============================] - 3s 47us/step - loss: 1.0234 - acc: 0.7074 - val_loss: 1.0577 - val_acc: 0.6875\n",
      "Epoch 6/100\n",
      "60000/60000 [==============================] - 3s 47us/step - loss: 1.0147 - acc: 0.7096 - val_loss: 1.0451 - val_acc: 0.6917\n",
      "Epoch 7/100\n",
      "60000/60000 [==============================] - 3s 46us/step - loss: 1.0063 - acc: 0.7122 - val_loss: 1.0328 - val_acc: 0.6943\n",
      "Epoch 8/100\n",
      "60000/60000 [==============================] - 3s 47us/step - loss: 0.9980 - acc: 0.7148 - val_loss: 1.0210 - val_acc: 0.6974\n",
      "Epoch 9/100\n",
      "60000/60000 [==============================] - 3s 47us/step - loss: 0.9900 - acc: 0.7177 - val_loss: 1.0097 - val_acc: 0.7008\n",
      "Epoch 10/100\n",
      "60000/60000 [==============================] - 3s 46us/step - loss: 0.9822 - acc: 0.7203 - val_loss: 0.9986 - val_acc: 0.7035\n",
      "Epoch 11/100\n",
      "60000/60000 [==============================] - 3s 46us/step - loss: 0.9746 - acc: 0.7229 - val_loss: 0.9880 - val_acc: 0.7057\n",
      "Epoch 12/100\n",
      "60000/60000 [==============================] - 3s 47us/step - loss: 0.9671 - acc: 0.7254 - val_loss: 0.9777 - val_acc: 0.7084\n",
      "Epoch 13/100\n",
      "60000/60000 [==============================] - 3s 48us/step - loss: 0.9598 - acc: 0.7277 - val_loss: 0.9677 - val_acc: 0.7117\n",
      "Epoch 14/100\n",
      "60000/60000 [==============================] - 3s 48us/step - loss: 0.9527 - acc: 0.7298 - val_loss: 0.9580 - val_acc: 0.7152\n",
      "Epoch 15/100\n",
      "60000/60000 [==============================] - 3s 46us/step - loss: 0.9458 - acc: 0.7315 - val_loss: 0.9487 - val_acc: 0.7173\n",
      "Epoch 16/100\n",
      "60000/60000 [==============================] - 3s 46us/step - loss: 0.9390 - acc: 0.7339 - val_loss: 0.9396 - val_acc: 0.7198\n",
      "Epoch 17/100\n",
      "60000/60000 [==============================] - 3s 47us/step - loss: 0.9324 - acc: 0.7360 - val_loss: 0.9308 - val_acc: 0.7226\n",
      "Epoch 18/100\n",
      "60000/60000 [==============================] - 3s 46us/step - loss: 0.9259 - acc: 0.7380 - val_loss: 0.9223 - val_acc: 0.7248\n",
      "Epoch 19/100\n",
      "60000/60000 [==============================] - 3s 49us/step - loss: 0.9196 - acc: 0.7396 - val_loss: 0.9140 - val_acc: 0.7271\n",
      "Epoch 20/100\n",
      "60000/60000 [==============================] - 3s 46us/step - loss: 0.9134 - acc: 0.7415 - val_loss: 0.9060 - val_acc: 0.7298\n",
      "Epoch 21/100\n",
      "60000/60000 [==============================] - 3s 47us/step - loss: 0.9074 - acc: 0.7436 - val_loss: 0.8982 - val_acc: 0.7325\n",
      "Epoch 22/100\n",
      "60000/60000 [==============================] - 3s 46us/step - loss: 0.9015 - acc: 0.7457 - val_loss: 0.8907 - val_acc: 0.7350\n",
      "Epoch 23/100\n",
      "60000/60000 [==============================] - 3s 47us/step - loss: 0.8957 - acc: 0.7474 - val_loss: 0.8833 - val_acc: 0.7377\n",
      "Epoch 24/100\n",
      "60000/60000 [==============================] - 3s 50us/step - loss: 0.8900 - acc: 0.7491 - val_loss: 0.8762 - val_acc: 0.7399\n",
      "Epoch 25/100\n",
      "60000/60000 [==============================] - 3s 50us/step - loss: 0.8844 - acc: 0.7508 - val_loss: 0.8692 - val_acc: 0.7425\n",
      "Epoch 26/100\n",
      "60000/60000 [==============================] - 3s 46us/step - loss: 0.8790 - acc: 0.7524 - val_loss: 0.8625 - val_acc: 0.7445\n",
      "Epoch 27/100\n",
      "60000/60000 [==============================] - 3s 48us/step - loss: 0.8737 - acc: 0.7542 - val_loss: 0.8559 - val_acc: 0.7474\n",
      "Epoch 28/100\n",
      "60000/60000 [==============================] - 3s 47us/step - loss: 0.8684 - acc: 0.7558 - val_loss: 0.8495 - val_acc: 0.7491\n",
      "Epoch 29/100\n",
      "60000/60000 [==============================] - 3s 46us/step - loss: 0.8633 - acc: 0.7574 - val_loss: 0.8433 - val_acc: 0.7509\n",
      "Epoch 30/100\n",
      "60000/60000 [==============================] - 3s 47us/step - loss: 0.8583 - acc: 0.7588 - val_loss: 0.8372 - val_acc: 0.7527\n",
      "Epoch 31/100\n",
      "60000/60000 [==============================] - 3s 48us/step - loss: 0.8534 - acc: 0.7604 - val_loss: 0.8313 - val_acc: 0.7547\n",
      "Epoch 32/100\n",
      "60000/60000 [==============================] - 3s 50us/step - loss: 0.8486 - acc: 0.7619 - val_loss: 0.8255 - val_acc: 0.7564\n",
      "Epoch 33/100\n",
      "60000/60000 [==============================] - 3s 50us/step - loss: 0.8438 - acc: 0.7633 - val_loss: 0.8199 - val_acc: 0.7582\n",
      "Epoch 34/100\n",
      "60000/60000 [==============================] - 3s 47us/step - loss: 0.8392 - acc: 0.7647 - val_loss: 0.8144 - val_acc: 0.7608\n",
      "Epoch 35/100\n",
      "60000/60000 [==============================] - 3s 48us/step - loss: 0.8346 - acc: 0.7662 - val_loss: 0.8091 - val_acc: 0.7620\n",
      "Epoch 36/100\n",
      "60000/60000 [==============================] - 3s 47us/step - loss: 0.8302 - acc: 0.7677 - val_loss: 0.8038 - val_acc: 0.7632\n",
      "Epoch 37/100\n",
      "60000/60000 [==============================] - 3s 47us/step - loss: 0.8258 - acc: 0.7692 - val_loss: 0.7987 - val_acc: 0.7657\n",
      "Epoch 38/100\n",
      "60000/60000 [==============================] - 3s 47us/step - loss: 0.8215 - acc: 0.7709 - val_loss: 0.7938 - val_acc: 0.7666\n",
      "Epoch 39/100\n",
      "60000/60000 [==============================] - 3s 46us/step - loss: 0.8173 - acc: 0.7722 - val_loss: 0.7889 - val_acc: 0.7674\n",
      "Epoch 40/100\n",
      "60000/60000 [==============================] - 3s 48us/step - loss: 0.8131 - acc: 0.7737 - val_loss: 0.7841 - val_acc: 0.7686\n",
      "Epoch 41/100\n",
      "60000/60000 [==============================] - 3s 46us/step - loss: 0.8090 - acc: 0.7751 - val_loss: 0.7795 - val_acc: 0.7700\n",
      "Epoch 42/100\n",
      "60000/60000 [==============================] - 3s 46us/step - loss: 0.8050 - acc: 0.7764 - val_loss: 0.7750 - val_acc: 0.7718\n",
      "Epoch 43/100\n",
      "60000/60000 [==============================] - 3s 49us/step - loss: 0.8011 - acc: 0.7776 - val_loss: 0.7705 - val_acc: 0.7729\n",
      "Epoch 44/100\n",
      "60000/60000 [==============================] - 3s 47us/step - loss: 0.7972 - acc: 0.7790 - val_loss: 0.7662 - val_acc: 0.7742\n",
      "Epoch 45/100\n",
      "60000/60000 [==============================] - 3s 47us/step - loss: 0.7934 - acc: 0.7804 - val_loss: 0.7620 - val_acc: 0.7757\n",
      "Epoch 46/100\n",
      "60000/60000 [==============================] - 3s 48us/step - loss: 0.7897 - acc: 0.7817 - val_loss: 0.7578 - val_acc: 0.7768\n",
      "Epoch 47/100\n",
      "60000/60000 [==============================] - 3s 47us/step - loss: 0.7860 - acc: 0.7828 - val_loss: 0.7538 - val_acc: 0.7779\n",
      "Epoch 48/100\n",
      "60000/60000 [==============================] - 3s 47us/step - loss: 0.7824 - acc: 0.7839 - val_loss: 0.7498 - val_acc: 0.7788\n",
      "Epoch 49/100\n",
      "60000/60000 [==============================] - 3s 47us/step - loss: 0.7789 - acc: 0.7850 - val_loss: 0.7459 - val_acc: 0.7797\n",
      "Epoch 50/100\n",
      "60000/60000 [==============================] - 3s 48us/step - loss: 0.7754 - acc: 0.7861 - val_loss: 0.7421 - val_acc: 0.7811\n",
      "Epoch 51/100\n",
      "60000/60000 [==============================] - 3s 50us/step - loss: 0.7719 - acc: 0.7872 - val_loss: 0.7384 - val_acc: 0.7821\n",
      "Epoch 52/100\n",
      "60000/60000 [==============================] - 3s 46us/step - loss: 0.7685 - acc: 0.7883 - val_loss: 0.7347 - val_acc: 0.7835\n",
      "Epoch 53/100\n",
      "60000/60000 [==============================] - 3s 46us/step - loss: 0.7652 - acc: 0.7893 - val_loss: 0.7312 - val_acc: 0.7845\n",
      "Epoch 54/100\n",
      "60000/60000 [==============================] - 3s 48us/step - loss: 0.7619 - acc: 0.7903 - val_loss: 0.7276 - val_acc: 0.7856\n",
      "Epoch 55/100\n",
      "60000/60000 [==============================] - 3s 48us/step - loss: 0.7587 - acc: 0.7912 - val_loss: 0.7242 - val_acc: 0.7867\n",
      "Epoch 56/100\n",
      "60000/60000 [==============================] - 3s 51us/step - loss: 0.7555 - acc: 0.7921 - val_loss: 0.7208 - val_acc: 0.7885\n",
      "Epoch 57/100\n",
      "60000/60000 [==============================] - 3s 52us/step - loss: 0.7524 - acc: 0.7931 - val_loss: 0.7176 - val_acc: 0.7899\n",
      "Epoch 58/100\n",
      "60000/60000 [==============================] - 3s 50us/step - loss: 0.7493 - acc: 0.7941 - val_loss: 0.7143 - val_acc: 0.7904\n",
      "Epoch 59/100\n",
      "60000/60000 [==============================] - 3s 51us/step - loss: 0.7463 - acc: 0.7948 - val_loss: 0.7111 - val_acc: 0.7915\n"
     ]
    },
    {
     "name": "stdout",
     "output_type": "stream",
     "text": [
      "Epoch 60/100\n",
      "60000/60000 [==============================] - 3s 49us/step - loss: 0.7433 - acc: 0.7956 - val_loss: 0.7080 - val_acc: 0.7930\n",
      "Epoch 61/100\n",
      "60000/60000 [==============================] - 3s 49us/step - loss: 0.7404 - acc: 0.7964 - val_loss: 0.7050 - val_acc: 0.7948\n",
      "Epoch 62/100\n",
      "60000/60000 [==============================] - 3s 47us/step - loss: 0.7375 - acc: 0.7974 - val_loss: 0.7020 - val_acc: 0.7957\n",
      "Epoch 63/100\n",
      "60000/60000 [==============================] - 3s 47us/step - loss: 0.7346 - acc: 0.7980 - val_loss: 0.6991 - val_acc: 0.7967\n",
      "Epoch 64/100\n",
      "60000/60000 [==============================] - 3s 46us/step - loss: 0.7318 - acc: 0.7988 - val_loss: 0.6962 - val_acc: 0.7977\n",
      "Epoch 65/100\n",
      "60000/60000 [==============================] - 3s 46us/step - loss: 0.7291 - acc: 0.7996 - val_loss: 0.6934 - val_acc: 0.7987\n",
      "Epoch 66/100\n",
      "60000/60000 [==============================] - 3s 49us/step - loss: 0.7263 - acc: 0.8007 - val_loss: 0.6906 - val_acc: 0.7997\n",
      "Epoch 67/100\n",
      "60000/60000 [==============================] - 3s 48us/step - loss: 0.7236 - acc: 0.8014 - val_loss: 0.6879 - val_acc: 0.8002\n",
      "Epoch 68/100\n",
      "60000/60000 [==============================] - 3s 46us/step - loss: 0.7210 - acc: 0.8023 - val_loss: 0.6852 - val_acc: 0.8015\n",
      "Epoch 69/100\n",
      "60000/60000 [==============================] - 3s 46us/step - loss: 0.7184 - acc: 0.8031 - val_loss: 0.6826 - val_acc: 0.8027\n",
      "Epoch 70/100\n",
      "60000/60000 [==============================] - 3s 47us/step - loss: 0.7158 - acc: 0.8040 - val_loss: 0.6800 - val_acc: 0.8033\n",
      "Epoch 71/100\n",
      "60000/60000 [==============================] - 3s 46us/step - loss: 0.7132 - acc: 0.8048 - val_loss: 0.6774 - val_acc: 0.8043\n",
      "Epoch 72/100\n",
      "60000/60000 [==============================] - 3s 49us/step - loss: 0.7107 - acc: 0.8053 - val_loss: 0.6749 - val_acc: 0.8054\n",
      "Epoch 73/100\n",
      "60000/60000 [==============================] - 3s 51us/step - loss: 0.7083 - acc: 0.8059 - val_loss: 0.6725 - val_acc: 0.8066\n",
      "Epoch 74/100\n",
      "60000/60000 [==============================] - 3s 50us/step - loss: 0.7058 - acc: 0.8067 - val_loss: 0.6701 - val_acc: 0.8076\n",
      "Epoch 75/100\n",
      "60000/60000 [==============================] - 3s 51us/step - loss: 0.7034 - acc: 0.8071 - val_loss: 0.6677 - val_acc: 0.8079\n",
      "Epoch 76/100\n",
      "60000/60000 [==============================] - 3s 49us/step - loss: 0.7010 - acc: 0.8079 - val_loss: 0.6654 - val_acc: 0.8092\n",
      "Epoch 77/100\n",
      "60000/60000 [==============================] - 3s 49us/step - loss: 0.6987 - acc: 0.8087 - val_loss: 0.6631 - val_acc: 0.8101\n",
      "Epoch 78/100\n",
      "60000/60000 [==============================] - 3s 51us/step - loss: 0.6964 - acc: 0.8094 - val_loss: 0.6608 - val_acc: 0.8108\n",
      "Epoch 79/100\n",
      "60000/60000 [==============================] - 3s 49us/step - loss: 0.6941 - acc: 0.8101 - val_loss: 0.6586 - val_acc: 0.8118\n",
      "Epoch 80/100\n",
      "60000/60000 [==============================] - 3s 46us/step - loss: 0.6918 - acc: 0.8107 - val_loss: 0.6564 - val_acc: 0.8127\n",
      "Epoch 81/100\n",
      "60000/60000 [==============================] - 3s 50us/step - loss: 0.6896 - acc: 0.8113 - val_loss: 0.6543 - val_acc: 0.8132\n",
      "Epoch 82/100\n",
      "60000/60000 [==============================] - 3s 48us/step - loss: 0.6874 - acc: 0.8120 - val_loss: 0.6522 - val_acc: 0.8143\n",
      "Epoch 83/100\n",
      "60000/60000 [==============================] - 3s 48us/step - loss: 0.6853 - acc: 0.8128 - val_loss: 0.6501 - val_acc: 0.8148\n",
      "Epoch 84/100\n",
      "60000/60000 [==============================] - 3s 49us/step - loss: 0.6831 - acc: 0.8133 - val_loss: 0.6481 - val_acc: 0.8153\n",
      "Epoch 85/100\n",
      "60000/60000 [==============================] - 3s 48us/step - loss: 0.6810 - acc: 0.8138 - val_loss: 0.6461 - val_acc: 0.8156\n",
      "Epoch 86/100\n",
      "60000/60000 [==============================] - 3s 50us/step - loss: 0.6789 - acc: 0.8143 - val_loss: 0.6441 - val_acc: 0.8164\n",
      "Epoch 87/100\n",
      "60000/60000 [==============================] - 3s 50us/step - loss: 0.6769 - acc: 0.8148 - val_loss: 0.6421 - val_acc: 0.8170\n",
      "Epoch 88/100\n",
      "60000/60000 [==============================] - 3s 46us/step - loss: 0.6748 - acc: 0.8155 - val_loss: 0.6402 - val_acc: 0.8176\n",
      "Epoch 89/100\n",
      "60000/60000 [==============================] - 3s 50us/step - loss: 0.6728 - acc: 0.8162 - val_loss: 0.6383 - val_acc: 0.8181\n",
      "Epoch 90/100\n",
      "60000/60000 [==============================] - 3s 48us/step - loss: 0.6708 - acc: 0.8167 - val_loss: 0.6364 - val_acc: 0.8189\n",
      "Epoch 91/100\n",
      "60000/60000 [==============================] - 3s 49us/step - loss: 0.6689 - acc: 0.8173 - val_loss: 0.6346 - val_acc: 0.8194\n",
      "Epoch 92/100\n",
      "60000/60000 [==============================] - 3s 48us/step - loss: 0.6669 - acc: 0.8178 - val_loss: 0.6328 - val_acc: 0.8200\n",
      "Epoch 93/100\n",
      "60000/60000 [==============================] - 3s 48us/step - loss: 0.6650 - acc: 0.8184 - val_loss: 0.6310 - val_acc: 0.8209\n",
      "Epoch 94/100\n",
      "60000/60000 [==============================] - 3s 49us/step - loss: 0.6631 - acc: 0.8189 - val_loss: 0.6292 - val_acc: 0.8213\n",
      "Epoch 95/100\n",
      "60000/60000 [==============================] - 3s 46us/step - loss: 0.6612 - acc: 0.8196 - val_loss: 0.6275 - val_acc: 0.8223\n",
      "Epoch 96/100\n",
      "60000/60000 [==============================] - 3s 50us/step - loss: 0.6594 - acc: 0.8201 - val_loss: 0.6258 - val_acc: 0.8229\n",
      "Epoch 97/100\n",
      "60000/60000 [==============================] - 3s 47us/step - loss: 0.6576 - acc: 0.8205 - val_loss: 0.6241 - val_acc: 0.8230\n",
      "Epoch 98/100\n",
      "60000/60000 [==============================] - 3s 47us/step - loss: 0.6557 - acc: 0.8209 - val_loss: 0.6225 - val_acc: 0.8239\n",
      "Epoch 99/100\n",
      "60000/60000 [==============================] - 3s 47us/step - loss: 0.6540 - acc: 0.8216 - val_loss: 0.6208 - val_acc: 0.8248\n",
      "Epoch 100/100\n",
      "60000/60000 [==============================] - 3s 50us/step - loss: 0.6522 - acc: 0.8220 - val_loss: 0.6192 - val_acc: 0.8250\n"
     ]
    },
    {
     "data": {
      "text/plain": [
       "<tensorflow.python.keras.callbacks.History at 0x22b0f150828>"
      ]
     },
     "execution_count": 7,
     "metadata": {},
     "output_type": "execute_result"
    }
   ],
   "source": [
    "#Execute the Graph\n",
    "\n",
    "model.fit(trainX, trainY, \n",
    "          validation_data=(testX, testY), \n",
    "          epochs=100,\n",
    "          batch_size=trainX.shape[0])"
   ]
  },
  {
   "cell_type": "code",
   "execution_count": 9,
   "metadata": {},
   "outputs": [],
   "source": [
    "#Save model\n",
    "\n",
    "model.save('mnist_lc.h5')"
   ]
  },
  {
   "cell_type": "code",
   "execution_count": null,
   "metadata": {},
   "outputs": [],
   "source": []
  }
 ],
 "metadata": {
  "kernelspec": {
   "display_name": "Python 3",
   "language": "python",
   "name": "python3"
  },
  "language_info": {
   "codemirror_mode": {
    "name": "ipython",
    "version": 3
   },
   "file_extension": ".py",
   "mimetype": "text/x-python",
   "name": "python",
   "nbconvert_exporter": "python",
   "pygments_lexer": "ipython3",
   "version": "3.6.8"
  }
 },
 "nbformat": 4,
 "nbformat_minor": 2
}
