{
 "cells": [
  {
   "cell_type": "code",
   "execution_count": 1,
   "metadata": {},
   "outputs": [
    {
     "name": "stderr",
     "output_type": "stream",
     "text": [
      "c:\\users\\hp\\appdata\\local\\programs\\python\\python36\\lib\\site-packages\\tensorflow\\python\\framework\\dtypes.py:523: FutureWarning: Passing (type, 1) or '1type' as a synonym of type is deprecated; in a future version of numpy, it will be understood as (type, (1,)) / '(1,)type'.\n",
      "  _np_qint8 = np.dtype([(\"qint8\", np.int8, 1)])\n",
      "c:\\users\\hp\\appdata\\local\\programs\\python\\python36\\lib\\site-packages\\tensorflow\\python\\framework\\dtypes.py:524: FutureWarning: Passing (type, 1) or '1type' as a synonym of type is deprecated; in a future version of numpy, it will be understood as (type, (1,)) / '(1,)type'.\n",
      "  _np_quint8 = np.dtype([(\"quint8\", np.uint8, 1)])\n",
      "c:\\users\\hp\\appdata\\local\\programs\\python\\python36\\lib\\site-packages\\tensorflow\\python\\framework\\dtypes.py:525: FutureWarning: Passing (type, 1) or '1type' as a synonym of type is deprecated; in a future version of numpy, it will be understood as (type, (1,)) / '(1,)type'.\n",
      "  _np_qint16 = np.dtype([(\"qint16\", np.int16, 1)])\n",
      "c:\\users\\hp\\appdata\\local\\programs\\python\\python36\\lib\\site-packages\\tensorflow\\python\\framework\\dtypes.py:526: FutureWarning: Passing (type, 1) or '1type' as a synonym of type is deprecated; in a future version of numpy, it will be understood as (type, (1,)) / '(1,)type'.\n",
      "  _np_quint16 = np.dtype([(\"quint16\", np.uint16, 1)])\n",
      "c:\\users\\hp\\appdata\\local\\programs\\python\\python36\\lib\\site-packages\\tensorflow\\python\\framework\\dtypes.py:527: FutureWarning: Passing (type, 1) or '1type' as a synonym of type is deprecated; in a future version of numpy, it will be understood as (type, (1,)) / '(1,)type'.\n",
      "  _np_qint32 = np.dtype([(\"qint32\", np.int32, 1)])\n",
      "c:\\users\\hp\\appdata\\local\\programs\\python\\python36\\lib\\site-packages\\tensorflow\\python\\framework\\dtypes.py:532: FutureWarning: Passing (type, 1) or '1type' as a synonym of type is deprecated; in a future version of numpy, it will be understood as (type, (1,)) / '(1,)type'.\n",
      "  np_resource = np.dtype([(\"resource\", np.ubyte, 1)])\n"
     ]
    }
   ],
   "source": [
    "#Load tensorflow\n",
    "import tensorflow as tf\n",
    "tf.set_random_seed(42)"
   ]
  },
  {
   "cell_type": "code",
   "execution_count": 2,
   "metadata": {},
   "outputs": [],
   "source": [
    "#Collect Data\n",
    "(trainX, trainY),(testX, testY) = tf.keras.datasets.mnist.load_data()"
   ]
  },
  {
   "cell_type": "code",
   "execution_count": 3,
   "metadata": {},
   "outputs": [],
   "source": [
    "#Convert Output label to multiple values\n",
    "trainY = tf.keras.utils.to_categorical(trainY, num_classes=10)\n",
    "testY = tf.keras.utils.to_categorical(testY, num_classes=10)"
   ]
  },
  {
   "cell_type": "code",
   "execution_count": 4,
   "metadata": {},
   "outputs": [],
   "source": [
    "#Build the Graph\n",
    "\n",
    "#Initialize Sequential model\n",
    "model = tf.keras.models.Sequential()\n",
    "\n",
    "#Reshape data from 2D to 1D -> 28x28 to 784\n",
    "model.add(tf.keras.layers.Reshape((784,),input_shape=(28,28,)))\n",
    "\n",
    "#Normalize the data\n",
    "model.add(tf.keras.layers.BatchNormalization())"
   ]
  },
  {
   "cell_type": "code",
   "execution_count": 5,
   "metadata": {},
   "outputs": [],
   "source": [
    "#Add 1st hidden layer\n",
    "model.add(tf.keras.layers.Dense(200, activation='sigmoid'))\n",
    "#Add 2nd hidden layer\n",
    "model.add(tf.keras.layers.Dense(100, activation='sigmoid'))\n",
    "#Add 3rd hidden layer\n",
    "model.add(tf.keras.layers.Dense(60, activation='sigmoid'))\n",
    "#Add 4th hidden layer\n",
    "model.add(tf.keras.layers.Dense(30, activation='sigmoid'))"
   ]
  },
  {
   "cell_type": "code",
   "execution_count": 6,
   "metadata": {},
   "outputs": [],
   "source": [
    "#Add OUTPUT layer\n",
    "model.add(tf.keras.layers.Dense(10, activation='softmax'))"
   ]
  },
  {
   "cell_type": "code",
   "execution_count": 7,
   "metadata": {},
   "outputs": [],
   "source": [
    "#Create optimizer with non-default learning rate\n",
    "sgd_optimizer = tf.keras.optimizers.SGD(lr=0.03)\n",
    "\n",
    "#Compile the model\n",
    "model.compile(optimizer=sgd_optimizer, loss='categorical_crossentropy', metrics=['accuracy'])"
   ]
  },
  {
   "cell_type": "code",
   "execution_count": 8,
   "metadata": {},
   "outputs": [
    {
     "name": "stdout",
     "output_type": "stream",
     "text": [
      "_________________________________________________________________\n",
      "Layer (type)                 Output Shape              Param #   \n",
      "=================================================================\n",
      "reshape (Reshape)            (None, 784)               0         \n",
      "_________________________________________________________________\n",
      "batch_normalization (BatchNo (None, 784)               3136      \n",
      "_________________________________________________________________\n",
      "dense (Dense)                (None, 200)               157000    \n",
      "_________________________________________________________________\n",
      "dense_1 (Dense)              (None, 100)               20100     \n",
      "_________________________________________________________________\n",
      "dense_2 (Dense)              (None, 60)                6060      \n",
      "_________________________________________________________________\n",
      "dense_3 (Dense)              (None, 30)                1830      \n",
      "_________________________________________________________________\n",
      "dense_4 (Dense)              (None, 10)                310       \n",
      "=================================================================\n",
      "Total params: 188,436\n",
      "Trainable params: 186,868\n",
      "Non-trainable params: 1,568\n",
      "_________________________________________________________________\n"
     ]
    }
   ],
   "source": [
    "#Review model\n",
    "model.summary()"
   ]
  },
  {
   "cell_type": "code",
   "execution_count": 10,
   "metadata": {},
   "outputs": [
    {
     "name": "stdout",
     "output_type": "stream",
     "text": [
      "Train on 60000 samples, validate on 10000 samples\n",
      "Epoch 1/30\n",
      "60000/60000 [==============================] - 11s 190us/step - loss: 2.2958 - acc: 0.1358 - val_loss: 2.2733 - val_acc: 0.2862\n",
      "Epoch 2/30\n",
      "60000/60000 [==============================] - 10s 170us/step - loss: 2.0986 - acc: 0.2647 - val_loss: 1.7885 - val_acc: 0.3497\n",
      "Epoch 3/30\n",
      "60000/60000 [==============================] - 11s 180us/step - loss: 1.5214 - acc: 0.4877 - val_loss: 1.1769 - val_acc: 0.6543\n",
      "Epoch 4/30\n",
      "60000/60000 [==============================] - 12s 201us/step - loss: 0.9847 - acc: 0.7172 - val_loss: 0.7474 - val_acc: 0.8053\n",
      "Epoch 5/30\n",
      "60000/60000 [==============================] - 11s 182us/step - loss: 0.7037 - acc: 0.8034 - val_loss: 0.5632 - val_acc: 0.8558\n",
      "Epoch 6/30\n",
      "60000/60000 [==============================] - 10s 174us/step - loss: 0.5463 - acc: 0.8528 - val_loss: 0.4356 - val_acc: 0.8894\n",
      "Epoch 7/30\n",
      "60000/60000 [==============================] - 10s 172us/step - loss: 0.4384 - acc: 0.8819 - val_loss: 0.3602 - val_acc: 0.9075\n",
      "Epoch 8/30\n",
      "60000/60000 [==============================] - 10s 172us/step - loss: 0.3669 - acc: 0.9006 - val_loss: 0.3118 - val_acc: 0.9189\n",
      "Epoch 9/30\n",
      "60000/60000 [==============================] - 11s 181us/step - loss: 0.3212 - acc: 0.9119 - val_loss: 0.2780 - val_acc: 0.9279\n",
      "Epoch 10/30\n",
      "60000/60000 [==============================] - 8s 141us/step - loss: 0.2792 - acc: 0.9242 - val_loss: 0.2544 - val_acc: 0.9359\n",
      "Epoch 11/30\n",
      "60000/60000 [==============================] - 11s 178us/step - loss: 0.2519 - acc: 0.9305 - val_loss: 0.2408 - val_acc: 0.9397\n",
      "Epoch 12/30\n",
      "60000/60000 [==============================] - 9s 157us/step - loss: 0.2275 - acc: 0.9368 - val_loss: 0.2259 - val_acc: 0.9408\n",
      "Epoch 13/30\n",
      "60000/60000 [==============================] - 11s 178us/step - loss: 0.2054 - acc: 0.9425 - val_loss: 0.2102 - val_acc: 0.9466\n",
      "Epoch 14/30\n",
      "60000/60000 [==============================] - 11s 182us/step - loss: 0.1879 - acc: 0.9473 - val_loss: 0.1955 - val_acc: 0.9496\n",
      "Epoch 15/30\n",
      "60000/60000 [==============================] - 11s 180us/step - loss: 0.1714 - acc: 0.9523 - val_loss: 0.1913 - val_acc: 0.9497\n",
      "Epoch 16/30\n",
      "60000/60000 [==============================] - 11s 179us/step - loss: 0.1561 - acc: 0.9566 - val_loss: 0.1802 - val_acc: 0.9546\n",
      "Epoch 17/30\n",
      "60000/60000 [==============================] - 11s 178us/step - loss: 0.1430 - acc: 0.9607 - val_loss: 0.1739 - val_acc: 0.9544\n",
      "Epoch 18/30\n",
      "60000/60000 [==============================] - 10s 170us/step - loss: 0.1299 - acc: 0.9643 - val_loss: 0.1676 - val_acc: 0.9571\n",
      "Epoch 19/30\n",
      "60000/60000 [==============================] - 10s 170us/step - loss: 0.1225 - acc: 0.9658 - val_loss: 0.1665 - val_acc: 0.9567\n",
      "Epoch 20/30\n",
      "60000/60000 [==============================] - 10s 170us/step - loss: 0.1108 - acc: 0.9692 - val_loss: 0.1606 - val_acc: 0.9602\n",
      "Epoch 21/30\n",
      "60000/60000 [==============================] - 10s 170us/step - loss: 0.1043 - acc: 0.9708 - val_loss: 0.1664 - val_acc: 0.9567\n",
      "Epoch 22/30\n",
      "60000/60000 [==============================] - 10s 169us/step - loss: 0.0952 - acc: 0.9730 - val_loss: 0.1538 - val_acc: 0.9593\n",
      "Epoch 23/30\n",
      "60000/60000 [==============================] - 11s 179us/step - loss: 0.0882 - acc: 0.9751 - val_loss: 0.1664 - val_acc: 0.9593\n",
      "Epoch 24/30\n",
      "60000/60000 [==============================] - 11s 179us/step - loss: 0.0836 - acc: 0.9766 - val_loss: 0.1534 - val_acc: 0.9625\n",
      "Epoch 25/30\n",
      "60000/60000 [==============================] - 11s 176us/step - loss: 0.0785 - acc: 0.9777 - val_loss: 0.1464 - val_acc: 0.9641\n",
      "Epoch 26/30\n",
      "60000/60000 [==============================] - 9s 153us/step - loss: 0.0717 - acc: 0.9796 - val_loss: 0.1438 - val_acc: 0.9646\n",
      "Epoch 27/30\n",
      "60000/60000 [==============================] - 10s 175us/step - loss: 0.0677 - acc: 0.9804 - val_loss: 0.1456 - val_acc: 0.9641\n",
      "Epoch 28/30\n",
      "60000/60000 [==============================] - 10s 171us/step - loss: 0.0619 - acc: 0.9827 - val_loss: 0.1423 - val_acc: 0.9663\n",
      "Epoch 29/30\n",
      "60000/60000 [==============================] - 11s 181us/step - loss: 0.0595 - acc: 0.9835 - val_loss: 0.1401 - val_acc: 0.9663\n",
      "Epoch 30/30\n",
      "60000/60000 [==============================] - 10s 163us/step - loss: 0.0569 - acc: 0.9831 - val_loss: 0.1462 - val_acc: 0.9646\n"
     ]
    },
    {
     "data": {
      "text/plain": [
       "<tensorflow.python.keras.callbacks.History at 0x26f8dde7710>"
      ]
     },
     "execution_count": 10,
     "metadata": {},
     "output_type": "execute_result"
    }
   ],
   "source": [
    "#Logging data for Tensorboard\n",
    "tensorboard = tf.keras.callbacks.TensorBoard(log_dir='/tmp/mnist/dnn_v1')\n",
    "#Train the model\n",
    "model.fit(trainX,trainY,          \n",
    "          validation_data=(testX,testY),\n",
    "          callbacks = [tensorboard],\n",
    "          epochs=30,\n",
    "          batch_size=32)"
   ]
  },
  {
   "cell_type": "code",
   "execution_count": null,
   "metadata": {},
   "outputs": [],
   "source": []
  }
 ],
 "metadata": {
  "kernelspec": {
   "display_name": "Python 3",
   "language": "python",
   "name": "python3"
  },
  "language_info": {
   "codemirror_mode": {
    "name": "ipython",
    "version": 3
   },
   "file_extension": ".py",
   "mimetype": "text/x-python",
   "name": "python",
   "nbconvert_exporter": "python",
   "pygments_lexer": "ipython3",
   "version": "3.6.8"
  }
 },
 "nbformat": 4,
 "nbformat_minor": 2
}
